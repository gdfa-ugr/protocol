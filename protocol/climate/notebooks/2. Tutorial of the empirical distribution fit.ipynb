{
 "cells": [
  {
   "cell_type": "markdown",
   "metadata": {},
   "source": [
    "This notebook tutorial shows how to generate a climate summary for the variables: significant wave height ($H_{m0}$), Peak period ($T_{p}$), Mean wave direction ($Dir_{Wv}$), Wind velocity ($Vel_{Wd}$) and Mean wind direction ($Dir_{Wd}$)"
   ]
  },
  {
   "cell_type": "code",
   "execution_count": 1,
   "metadata": {
    "collapsed": true
   },
   "outputs": [],
   "source": [
    "# Python 2/3 setup \n",
    "from __future__ import (absolute_import, division, print_function, unicode_literals)\n",
    "# from builtins import "
   ]
  },
  {
   "cell_type": "code",
   "execution_count": 2,
   "metadata": {
    "collapsed": true
   },
   "outputs": [],
   "source": [
    "# Juypyter setup\n",
    "\n",
    "%matplotlib inline\n",
    "import os\n",
    "import sys\n",
    "module_path = os.path.abspath(os.path.join('..', '..'))\n",
    "if module_path not in sys.path:\n",
    "    sys.path.append(module_path)"
   ]
  },
  {
   "cell_type": "markdown",
   "metadata": {},
   "source": [
    "## Import Packages"
   ]
  },
  {
   "cell_type": "code",
   "execution_count": 3,
   "metadata": {
    "collapsed": true
   },
   "outputs": [],
   "source": [
    "import pandas as pd\n",
    "import numpy as np\n",
    "from matplotlib import pyplot as plt\n",
    "from climate import read\n",
    "from climate.stats import empirical_distributions"
   ]
  },
  {
   "cell_type": "code",
   "execution_count": 4,
   "metadata": {
    "collapsed": true
   },
   "outputs": [],
   "source": [
    "pd.set_option(\"display.max_rows\", 10)\n",
    "pd.set_option(\"display.max_columns\", 5)"
   ]
  },
  {
   "cell_type": "markdown",
   "metadata": {},
   "source": [
    "## Read SIMAR file"
   ]
  },
  {
   "cell_type": "markdown",
   "metadata": {},
   "source": [
    "This function read the SIMAR file"
   ]
  },
  {
   "cell_type": "code",
   "execution_count": 5,
   "metadata": {},
   "outputs": [
    {
     "data": {
      "text/html": [
       "<div>\n",
       "<style>\n",
       "    .dataframe thead tr:only-child th {\n",
       "        text-align: right;\n",
       "    }\n",
       "\n",
       "    .dataframe thead th {\n",
       "        text-align: left;\n",
       "    }\n",
       "\n",
       "    .dataframe tbody tr th {\n",
       "        vertical-align: top;\n",
       "    }\n",
       "</style>\n",
       "<table border=\"1\" class=\"dataframe\">\n",
       "  <thead>\n",
       "    <tr style=\"text-align: right;\">\n",
       "      <th></th>\n",
       "      <th>Hm0</th>\n",
       "      <th>Tp</th>\n",
       "      <th>DirM</th>\n",
       "      <th>VelV</th>\n",
       "      <th>DirV</th>\n",
       "    </tr>\n",
       "    <tr>\n",
       "      <th>AA_MM_DD_HH</th>\n",
       "      <th></th>\n",
       "      <th></th>\n",
       "      <th></th>\n",
       "      <th></th>\n",
       "      <th></th>\n",
       "    </tr>\n",
       "  </thead>\n",
       "  <tbody>\n",
       "    <tr>\n",
       "      <th>1958-01-04 00:00:00</th>\n",
       "      <td>2.1</td>\n",
       "      <td>10.8</td>\n",
       "      <td>249.0</td>\n",
       "      <td>7.9</td>\n",
       "      <td>172.0</td>\n",
       "    </tr>\n",
       "    <tr>\n",
       "      <th>1958-01-04 01:00:00</th>\n",
       "      <td>2.1</td>\n",
       "      <td>10.6</td>\n",
       "      <td>250.0</td>\n",
       "      <td>7.5</td>\n",
       "      <td>170.0</td>\n",
       "    </tr>\n",
       "    <tr>\n",
       "      <th>1958-01-04 02:00:00</th>\n",
       "      <td>2.1</td>\n",
       "      <td>10.6</td>\n",
       "      <td>251.0</td>\n",
       "      <td>7.1</td>\n",
       "      <td>169.0</td>\n",
       "    </tr>\n",
       "    <tr>\n",
       "      <th>1958-01-04 03:00:00</th>\n",
       "      <td>2.1</td>\n",
       "      <td>10.6</td>\n",
       "      <td>252.0</td>\n",
       "      <td>6.7</td>\n",
       "      <td>167.0</td>\n",
       "    </tr>\n",
       "    <tr>\n",
       "      <th>1958-01-04 04:00:00</th>\n",
       "      <td>2.1</td>\n",
       "      <td>10.6</td>\n",
       "      <td>253.0</td>\n",
       "      <td>6.3</td>\n",
       "      <td>162.0</td>\n",
       "    </tr>\n",
       "    <tr>\n",
       "      <th>...</th>\n",
       "      <td>...</td>\n",
       "      <td>...</td>\n",
       "      <td>...</td>\n",
       "      <td>...</td>\n",
       "      <td>...</td>\n",
       "    </tr>\n",
       "    <tr>\n",
       "      <th>2017-08-06 20:00:00</th>\n",
       "      <td>0.6</td>\n",
       "      <td>9.7</td>\n",
       "      <td>287.0</td>\n",
       "      <td>4.2</td>\n",
       "      <td>301.0</td>\n",
       "    </tr>\n",
       "    <tr>\n",
       "      <th>2017-08-06 21:00:00</th>\n",
       "      <td>0.6</td>\n",
       "      <td>9.7</td>\n",
       "      <td>286.0</td>\n",
       "      <td>4.1</td>\n",
       "      <td>288.0</td>\n",
       "    </tr>\n",
       "    <tr>\n",
       "      <th>2017-08-06 22:00:00</th>\n",
       "      <td>0.6</td>\n",
       "      <td>9.7</td>\n",
       "      <td>286.0</td>\n",
       "      <td>3.1</td>\n",
       "      <td>269.0</td>\n",
       "    </tr>\n",
       "    <tr>\n",
       "      <th>2017-08-06 23:00:00</th>\n",
       "      <td>0.6</td>\n",
       "      <td>9.7</td>\n",
       "      <td>285.0</td>\n",
       "      <td>3.3</td>\n",
       "      <td>277.0</td>\n",
       "    </tr>\n",
       "    <tr>\n",
       "      <th>2017-08-07 00:00:00</th>\n",
       "      <td>0.6</td>\n",
       "      <td>9.6</td>\n",
       "      <td>285.0</td>\n",
       "      <td>2.9</td>\n",
       "      <td>322.0</td>\n",
       "    </tr>\n",
       "  </tbody>\n",
       "</table>\n",
       "<p>520976 rows × 5 columns</p>\n",
       "</div>"
      ],
      "text/plain": [
       "                     Hm0    Tp   DirM  VelV   DirV\n",
       "AA_MM_DD_HH                                       \n",
       "1958-01-04 00:00:00  2.1  10.8  249.0   7.9  172.0\n",
       "1958-01-04 01:00:00  2.1  10.6  250.0   7.5  170.0\n",
       "1958-01-04 02:00:00  2.1  10.6  251.0   7.1  169.0\n",
       "1958-01-04 03:00:00  2.1  10.6  252.0   6.7  167.0\n",
       "1958-01-04 04:00:00  2.1  10.6  253.0   6.3  162.0\n",
       "...                  ...   ...    ...   ...    ...\n",
       "2017-08-06 20:00:00  0.6   9.7  287.0   4.2  301.0\n",
       "2017-08-06 21:00:00  0.6   9.7  286.0   4.1  288.0\n",
       "2017-08-06 22:00:00  0.6   9.7  286.0   3.1  269.0\n",
       "2017-08-06 23:00:00  0.6   9.7  285.0   3.3  277.0\n",
       "2017-08-07 00:00:00  0.6   9.6  285.0   2.9  322.0\n",
       "\n",
       "[520976 rows x 5 columns]"
      ]
     },
     "execution_count": 5,
     "metadata": {},
     "output_type": "execute_result"
    }
   ],
   "source": [
    "data_file = 'SIMAR_1052046'\n",
    "full_data_path = os.path.join('..', '..', '..', '..', 'data', 'simar')\n",
    "data_simar, code = read.simar(data_file, path=full_data_path)\n",
    "data_column = 'Hm0'\n",
    "data_simar"
   ]
  },
  {
   "cell_type": "code",
   "execution_count": 6,
   "metadata": {},
   "outputs": [
    {
     "data": {
      "image/png": "[encoded data removed]",
      "text/plain": [
       "<matplotlib.figure.Figure at 0x837b518>"
      ]
     },
     "metadata": {},
     "output_type": "display_data"
    }
   ],
   "source": [
    "# Empirical probability density function\n",
    "cumulative = False\n",
    "data = empirical_distributions.kde_sm(data_simar[data_column], cumulative=cumulative)\n",
    "empirical_distributions.plot_kde(data)"
   ]
  },
  {
   "cell_type": "code",
   "execution_count": 7,
   "metadata": {},
   "outputs": [
    {
     "data": {
      "image/png": "[encoded data removed]",
      "text/plain": [
       "<matplotlib.figure.Figure at 0x14540a90>"
      ]
     },
     "metadata": {},
     "output_type": "display_data"
    }
   ],
   "source": [
    "# Empirical cumulative distribution function\n",
    "cumulative = True\n",
    "data = empirical_distributions.kde_sm(data_simar[data_column], cumulative=cumulative)\n",
    "empirical_distributions.plot_kde(data)"
   ]
  }
 ],
 "metadata": {
  "kernelspec": {
   "display_name": "Python 2",
   "language": "python",
   "name": "python2"
  },
  "language_info": {
   "codemirror_mode": {
    "name": "ipython",
    "version": 2
   },
   "file_extension": ".py",
   "mimetype": "text/x-python",
   "name": "python",
   "nbconvert_exporter": "python",
   "pygments_lexer": "ipython2",
   "version": "2.7.13"
  }
 },
 "nbformat": 4,
 "nbformat_minor": 2
}
